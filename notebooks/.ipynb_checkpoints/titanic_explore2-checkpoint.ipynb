{
 "cells": [
  {
   "cell_type": "code",
   "execution_count": 4,
   "metadata": {
    "collapsed": false
   },
   "outputs": [],
   "source": [
    "import pandas as pd\n",
    "import numpy as np\n",
    "\n",
    "from sklearn.model_selection import train_test_split\n",
    "from sklearn.preprocessing import Imputer\n",
    "from sklearn.linear_model import LogisticRegression\n",
    "from sklearn.ensemble import RandomForestClassifier\n",
    "from sklearn.model_selection import cross_val_score\n",
    "from sklearn.model_selection import GridSearchCV\n",
    "\n",
    "from sklearn import metrics\n",
    "import sklearn.preprocessing"
   ]
  },
  {
   "cell_type": "code",
   "execution_count": 12,
   "metadata": {
    "collapsed": false
   },
   "outputs": [],
   "source": [
    "train_file = \"../data/train.csv\"\n",
    "test_file = \"../data/test.csv\"\n",
    "\n",
    "\n",
    "train_data_raw = pd.read_csv(train_file)\n",
    "test_data_raw = pd.read_csv(test_file)\n",
    "\n",
    "target = \"Survived\"\n"
   ]
  },
  {
   "cell_type": "code",
   "execution_count": 61,
   "metadata": {
    "collapsed": false
   },
   "outputs": [],
   "source": [
    "\n",
    "### CLEAN DATA FUNC\n",
    "\n",
    "def clean_func(train_data):\n",
    "    \n",
    "    ## DO IMPUTATION \n",
    "    # FARE\n",
    "    imp_fare = Imputer(missing_values=\"NaN\", strategy=\"mean\")\n",
    "    imp_fare.fit(train_data[[\"Fare\"]])\n",
    "    train_data[[\"Fare\"]]=imp_fare.transform(train_data[[\"Fare\"]]).ravel() \n",
    "\n",
    "    # Age\n",
    "    imp=Imputer(missing_values=\"NaN\", strategy=\"mean\")\n",
    "    imp.fit(train_data[[\"Age\"]])\n",
    "    train_data[[\"Age\"]]=imp.transform(train_data[[\"Age\"]]).ravel() \n",
    "    \n",
    "    # Filna\n",
    "    train_data[\"Cabin\"] = train_data[\"Cabin\"].fillna(\"\")\n",
    "\n",
    "    \n",
    "    # one hot encoding\n",
    "    sex_features = pd.get_dummies(train_data[\"Sex\"])\n",
    "    embarked_features = pd.get_dummies(train_data[\"Embarked\"])\n",
    "    \n",
    "    # rename embarked features\n",
    "    embarked_features = embarked_features.rename(columns={'C': 'embarked_cobh'\n",
    "                                                        , 'Q': 'embark_queenstown'\n",
    "                                                        , 'S': 'embark_southampton'})\n",
    "\n",
    "    # Concat new features\n",
    "    train_data_extras = pd.concat([train_data,sex_features,embarked_features],axis=1)\n",
    "\n",
    "    \n",
    "    \n",
    "    # HACK - REMOVE T WHICH IS NOT IN TEST LIKELY ERRROR \n",
    "    cabin_letters = pd.get_dummies(train_data['Cabin'].map(lambda x: \"empty\" if len(x)==0 or x[0]==\"T\" else x[0]))\n",
    "\n",
    "#    cabin_letters = pd.get_dummies(train_data['Cabin'].map(lambda x: \"empty\" if len(x)==0 else x[0]))\n",
    "    cabin_letters.columns = [\"Cabin_letter_\"+i for i in cabin_letters.columns]\n",
    "    train_data_extras = pd.concat([train_data_extras,cabin_letters],axis=1)\n",
    "    \n",
    "\n",
    "    train_data_extras[\"Cabin_number\"] = train_data['Cabin'].map(lambda x: -99 if len(x)==0 else x.split(\" \")[0][1:]) \n",
    "\n",
    "    # ONLY RETURN NUMERIC COLUMNS \n",
    "    num_types = ['int16', 'int32', 'int64', 'float16', 'float32', 'float64','uint8']\n",
    "    train_data_numerics = train_data_extras.select_dtypes(include=num_types)\n",
    "\n",
    "    return train_data_numerics\n"
   ]
  },
  {
   "cell_type": "markdown",
   "metadata": {},
   "source": [
    "## Select only numeric columns"
   ]
  },
  {
   "cell_type": "code",
   "execution_count": 97,
   "metadata": {
    "collapsed": false
   },
   "outputs": [],
   "source": [
    "train_data_raw = clean_func(train_data_raw)\n",
    "train_data = train_data.ix[:, train_data_raw.columns != target]\n",
    "train_data_target = train_data_raw[target].values\n"
   ]
  },
  {
   "cell_type": "code",
   "execution_count": 98,
   "metadata": {
    "collapsed": false
   },
   "outputs": [],
   "source": [
    "X_train,X_test,Y_train,Y_test = train_test_split(train_data\n",
    "                              ,train_data_target\n",
    "                              ,test_size=0.3\n",
    "                              ,random_state=42)"
   ]
  },
  {
   "cell_type": "markdown",
   "metadata": {},
   "source": [
    "# Models\n",
    "- logreg\n",
    "- random forest"
   ]
  },
  {
   "cell_type": "code",
   "execution_count": 74,
   "metadata": {
    "collapsed": false
   },
   "outputs": [
    {
     "data": {
      "text/plain": [
       "LogisticRegression(C=1.0, class_weight=None, dual=False, fit_intercept=True,\n",
       "          intercept_scaling=1, max_iter=100, multi_class='ovr', n_jobs=1,\n",
       "          penalty='l2', random_state=None, solver='liblinear', tol=0.0001,\n",
       "          verbose=0, warm_start=False)"
      ]
     },
     "execution_count": 74,
     "metadata": {},
     "output_type": "execute_result"
    }
   ],
   "source": [
    "log_reg = LogisticRegression(penalty=\"l2\", dual=False, tol=0.0001, C=1.0\n",
    "                             , fit_intercept=True, intercept_scaling=1\n",
    "                             , class_weight=None, random_state=None\n",
    "                             , solver=\"liblinear\", max_iter=100\n",
    "                             , multi_class=\"ovr\", verbose=0\n",
    "                             , warm_start=False, n_jobs=1)\n",
    "\n",
    "log_reg.fit(X_train,Y_train)\n",
    "\n",
    "\n"
   ]
  },
  {
   "cell_type": "code",
   "execution_count": 75,
   "metadata": {
    "collapsed": true
   },
   "outputs": [],
   "source": [
    "Y_pred = log_reg.predict(X_test)"
   ]
  },
  {
   "cell_type": "code",
   "execution_count": 76,
   "metadata": {
    "collapsed": false
   },
   "outputs": [
    {
     "data": {
      "text/plain": [
       "0.80223880597014929"
      ]
     },
     "execution_count": 76,
     "metadata": {},
     "output_type": "execute_result"
    }
   ],
   "source": [
    "metrics.accuracy_score(Y_test,Y_pred) "
   ]
  },
  {
   "cell_type": "code",
   "execution_count": null,
   "metadata": {
    "collapsed": true
   },
   "outputs": [],
   "source": []
  },
  {
   "cell_type": "markdown",
   "metadata": {},
   "source": [
    "### random forest naive"
   ]
  },
  {
   "cell_type": "code",
   "execution_count": 101,
   "metadata": {
    "collapsed": false
   },
   "outputs": [
    {
     "data": {
      "text/plain": [
       "RandomForestClassifier(bootstrap=True, class_weight=None, criterion='gini',\n",
       "            max_depth=None, max_features='auto', max_leaf_nodes=None,\n",
       "            min_impurity_split=1e-07, min_samples_leaf=1,\n",
       "            min_samples_split=2, min_weight_fraction_leaf=0.0,\n",
       "            n_estimators=100, n_jobs=1, oob_score=False, random_state=None,\n",
       "            verbose=0, warm_start=False)"
      ]
     },
     "execution_count": 101,
     "metadata": {},
     "output_type": "execute_result"
    }
   ],
   "source": [
    "model_rf = RandomForestClassifier(\n",
    "n_estimators=100\n",
    ")\n",
    "\n",
    "model_rf.fit(train_data, train_data_target)"
   ]
  },
  {
   "cell_type": "code",
   "execution_count": 104,
   "metadata": {
    "collapsed": false
   },
   "outputs": [
    {
     "name": "stdout",
     "output_type": "stream",
     "text": [
      "[ 0.8         0.8         0.76404494  0.83146067  0.91011236  0.83146067\n",
      "  0.82022472  0.7752809   0.86516854  0.85227273]\n"
     ]
    }
   ],
   "source": [
    "# Cross Validation RF\n",
    "\n",
    "scores = cross_val_score(model_rf, train_data, train_data_target, cv=10)\n",
    "print(scores)"
   ]
  },
  {
   "cell_type": "code",
   "execution_count": 105,
   "metadata": {
    "collapsed": false
   },
   "outputs": [
    {
     "data": {
      "text/plain": [
       "1.0"
      ]
     },
     "execution_count": 105,
     "metadata": {},
     "output_type": "execute_result"
    }
   ],
   "source": [
    "pred_rf = model_rf.predict(X_test)\n",
    "metrics.accuracy_score(Y_test,pred_rf)"
   ]
  },
  {
   "cell_type": "markdown",
   "metadata": {},
   "source": [
    "### Random Forest Grid Search"
   ]
  },
  {
   "cell_type": "code",
   "execution_count": 106,
   "metadata": {
    "collapsed": true
   },
   "outputs": [],
   "source": [
    "model_rf_gs = RandomForestClassifier()\n",
    "\n"
   ]
  },
  {
   "cell_type": "code",
   "execution_count": 107,
   "metadata": {
    "collapsed": false
   },
   "outputs": [
    {
     "name": "stdout",
     "output_type": "stream",
     "text": [
      "{'n_estimators': array([ 60,  80, 100]), 'min_samples_leaf': array([2, 3])}\n"
     ]
    }
   ],
   "source": [
    "# parmeter dict\n",
    "param_grid = dict(\n",
    "    n_estimators=np.arange(60,101,20)\n",
    "    , min_samples_leaf=np.arange(2,4,1)\n",
    "    #, criterion = [\"gini\",\"entropy\"]\n",
    "    #, max_features = np.arange(0.1,0.5,0.1)\n",
    ")\n",
    "print(param_grid)"
   ]
  },
  {
   "cell_type": "code",
   "execution_count": null,
   "metadata": {
    "collapsed": false
   },
   "outputs": [],
   "source": [
    "grid = GridSearchCV(model_rf_gs,param_grid=param_grid,scoring = \"accuracy\", cv = 5)\n",
    "grid.fit(train_data, train_data_target)\n",
    "\"\"\n",
    "\n",
    "# model_rf.fit(train_data, train_data[target])"
   ]
  },
  {
   "cell_type": "code",
   "execution_count": 109,
   "metadata": {
    "collapsed": false
   },
   "outputs": [],
   "source": [
    "#print(grid)\n",
    "# for i in ['params',\"mean_train_score\",\"mean_test_score\"]:\n",
    "#     print(i)\n",
    "#     print(grid.cv_results_[i])\n",
    "#grid.cv_results_"
   ]
  },
  {
   "cell_type": "code",
   "execution_count": null,
   "metadata": {
    "collapsed": false
   },
   "outputs": [],
   "source": [
    "print(grid.best_params_)\n",
    "print(grid.best_score_)\n"
   ]
  },
  {
   "cell_type": "code",
   "execution_count": 80,
   "metadata": {
    "collapsed": false
   },
   "outputs": [
    {
     "data": {
      "text/plain": [
       "''"
      ]
     },
     "execution_count": 80,
     "metadata": {},
     "output_type": "execute_result"
    }
   ],
   "source": [
    "model_rf_gs = RandomForestClassifier(**grid.best_params_)\n",
    "model_rf_gs.fit(train_data,train_data[target])\n",
    "\"\"\n",
    "#print(**grid.best_params_)\n",
    "\n"
   ]
  },
  {
   "cell_type": "markdown",
   "metadata": {},
   "source": [
    "### Get params"
   ]
  },
  {
   "cell_type": "code",
   "execution_count": 81,
   "metadata": {
    "collapsed": false
   },
   "outputs": [
    {
     "name": "stdout",
     "output_type": "stream",
     "text": [
      "[ 1.26214381]\n",
      "('PassengerId', 0.00029820095499969796)\n",
      "('Survived', -0.61572194000855129)\n",
      "('Pclass', -0.029047527452569548)\n",
      "('Age', -0.25731856900057948)\n",
      "('SibSp', -0.098679125355903702)\n",
      "('Parch', 0.0046448498810989286)\n",
      "('Fare', 1.9122465908765478)\n",
      "('female', -0.65010278524410203)\n",
      "('male', 0.70876240073603169)\n",
      "('embarked_cobh', 0.40782184168309971)\n",
      "('embark_queenstown', 0.076421717282556312)\n",
      "('embark_southampton', -0.11838528129807893)\n",
      "('Cabin_letter_A', 0.25698381555541661)\n",
      "('Cabin_letter_B', -0.56847249410849043)\n",
      "('Cabin_letter_C', 0.56816881665557617)\n",
      "('Cabin_letter_D', 1.2341479281746726)\n",
      "('Cabin_letter_E', 0.75927127194689126)\n",
      "('Cabin_letter_F', -0.5403500103496528)\n",
      "('Cabin_letter_G', -0.32922024094390645)\n"
     ]
    }
   ],
   "source": [
    "# get parameters\n",
    "coef = list(log_reg.coef_.ravel())\n",
    "intercept = log_reg.intercept_\n",
    "\n",
    "# print them\n",
    "print intercept\n",
    "\n",
    "coef\n",
    "for id, i in enumerate(coef):\n",
    "    print(train_data.columns[id],i)\n"
   ]
  },
  {
   "cell_type": "markdown",
   "metadata": {},
   "source": [
    "# PREDICT AND STORE OUTPUT"
   ]
  },
  {
   "cell_type": "code",
   "execution_count": 82,
   "metadata": {
    "collapsed": false
   },
   "outputs": [],
   "source": [
    "### HACK TO COMPUTE TEST RESULT\n",
    "test_data = clean_func(test_data_raw)\n",
    "\n",
    "#test_data[[\"Age\"]]=imp.transform(test_data[[\"Age\"]]).ravel()"
   ]
  },
  {
   "cell_type": "code",
   "execution_count": 83,
   "metadata": {
    "collapsed": false
   },
   "outputs": [],
   "source": [
    "## DO IMPUTATION ON FARE\n",
    "# imp_fare = Imputer(missing_values=\"NaN\", strategy=\"mean\")\n",
    "# imp_fare.fit(train_data[[\"Fare\"]])\n",
    "\n",
    "# test_data[[\"Fare\"]]=imp_fare.transform(test_data[[\"Fare\"]]).ravel() # what is ravel???\n"
   ]
  },
  {
   "cell_type": "code",
   "execution_count": 84,
   "metadata": {
    "collapsed": false
   },
   "outputs": [
    {
     "data": {
      "text/plain": [
       "PassengerId           0\n",
       "Pclass                0\n",
       "Age                   0\n",
       "SibSp                 0\n",
       "Parch                 0\n",
       "Fare                  0\n",
       "female                0\n",
       "male                  0\n",
       "embarked_cobh         0\n",
       "embark_queenstown     0\n",
       "embark_southampton    0\n",
       "Cabin_letter_A        0\n",
       "Cabin_letter_B        0\n",
       "Cabin_letter_C        0\n",
       "Cabin_letter_D        0\n",
       "Cabin_letter_E        0\n",
       "Cabin_letter_F        0\n",
       "Cabin_letter_G        0\n",
       "Cabin_letter_empty    0\n",
       "dtype: int64"
      ]
     },
     "execution_count": 84,
     "metadata": {},
     "output_type": "execute_result"
    }
   ],
   "source": [
    "test_data.isnull().sum()\n"
   ]
  },
  {
   "cell_type": "code",
   "execution_count": 85,
   "metadata": {
    "collapsed": false
   },
   "outputs": [],
   "source": [
    "#test_data_y = log_reg.predict(test_data)\n",
    "test_data_y = log_reg.predict(test_data)\n",
    "\n",
    "\n",
    "#train_data.head(3)"
   ]
  },
  {
   "cell_type": "code",
   "execution_count": 86,
   "metadata": {
    "collapsed": false
   },
   "outputs": [],
   "source": [
    "output = pd.DataFrame(zip(list(test_data[\"PassengerId\"]),list(test_data_y)))\n",
    "output.columns = [\"PassengerId\",\"Survived\"]"
   ]
  },
  {
   "cell_type": "code",
   "execution_count": 87,
   "metadata": {
    "collapsed": false
   },
   "outputs": [],
   "source": [
    "output.to_csv(index=False, path_or_buf= \"../data/output.csv\")\n"
   ]
  },
  {
   "cell_type": "code",
   "execution_count": 88,
   "metadata": {
    "collapsed": true
   },
   "outputs": [],
   "source": [
    "def output(data,file_name):\n",
    "    output = pd.DataFrame(zip(list(test_data[\"PassengerId\"]),list(data)))\n",
    "    output.columns = [\"PassengerId\",\"Survived\"]\n",
    "    output.to_csv(index=False, path_or_buf= \"../data/{file_name}.csv\".format(file_name=file_name))\n",
    "\n",
    "    \n"
   ]
  },
  {
   "cell_type": "code",
   "execution_count": 96,
   "metadata": {
    "collapsed": false
   },
   "outputs": [
    {
     "data": {
      "text/plain": [
       "['Survived']"
      ]
     },
     "execution_count": 96,
     "metadata": {},
     "output_type": "execute_result"
    }
   ],
   "source": [
    "a =list(test_data.columns)\n",
    "b = list(train_data.columns)\n",
    "\n",
    "[item for item in b if item not in a]\n",
    "\n"
   ]
  },
  {
   "cell_type": "code",
   "execution_count": 91,
   "metadata": {
    "collapsed": false
   },
   "outputs": [
    {
     "ename": "ValueError",
     "evalue": "Number of features of the model must match the input. Model n_features is 20 and input n_features is 19 ",
     "output_type": "error",
     "traceback": [
      "\u001b[0;31m---------------------------------------------------------------------------\u001b[0m",
      "\u001b[0;31mValueError\u001b[0m                                Traceback (most recent call last)",
      "\u001b[0;32m<ipython-input-91-a2cf63b61af2>\u001b[0m in \u001b[0;36m<module>\u001b[0;34m()\u001b[0m\n\u001b[0;32m----> 1\u001b[0;31m \u001b[0mmodel_rf_data_y\u001b[0m \u001b[0;34m=\u001b[0m \u001b[0mmodel_rf\u001b[0m\u001b[0;34m.\u001b[0m\u001b[0mpredict\u001b[0m\u001b[0;34m(\u001b[0m\u001b[0mtest_data\u001b[0m\u001b[0;34m)\u001b[0m\u001b[0;34m\u001b[0m\u001b[0m\n\u001b[0m\u001b[1;32m      2\u001b[0m \u001b[0;34m\u001b[0m\u001b[0m\n\u001b[1;32m      3\u001b[0m \u001b[0moutput\u001b[0m\u001b[0;34m(\u001b[0m\u001b[0mmodel_rf_data_y\u001b[0m\u001b[0;34m,\u001b[0m\u001b[0;34m\"predict_rf_1\"\u001b[0m\u001b[0;34m)\u001b[0m\u001b[0;34m\u001b[0m\u001b[0m\n",
      "\u001b[0;32m/usr/local/lib/python2.7/site-packages/sklearn/ensemble/forest.pyc\u001b[0m in \u001b[0;36mpredict\u001b[0;34m(self, X)\u001b[0m\n\u001b[1;32m    532\u001b[0m             \u001b[0mThe\u001b[0m \u001b[0mpredicted\u001b[0m \u001b[0mclasses\u001b[0m\u001b[0;34m.\u001b[0m\u001b[0;34m\u001b[0m\u001b[0m\n\u001b[1;32m    533\u001b[0m         \"\"\"\n\u001b[0;32m--> 534\u001b[0;31m         \u001b[0mproba\u001b[0m \u001b[0;34m=\u001b[0m \u001b[0mself\u001b[0m\u001b[0;34m.\u001b[0m\u001b[0mpredict_proba\u001b[0m\u001b[0;34m(\u001b[0m\u001b[0mX\u001b[0m\u001b[0;34m)\u001b[0m\u001b[0;34m\u001b[0m\u001b[0m\n\u001b[0m\u001b[1;32m    535\u001b[0m \u001b[0;34m\u001b[0m\u001b[0m\n\u001b[1;32m    536\u001b[0m         \u001b[0;32mif\u001b[0m \u001b[0mself\u001b[0m\u001b[0;34m.\u001b[0m\u001b[0mn_outputs_\u001b[0m \u001b[0;34m==\u001b[0m \u001b[0;36m1\u001b[0m\u001b[0;34m:\u001b[0m\u001b[0;34m\u001b[0m\u001b[0m\n",
      "\u001b[0;32m/usr/local/lib/python2.7/site-packages/sklearn/ensemble/forest.pyc\u001b[0m in \u001b[0;36mpredict_proba\u001b[0;34m(self, X)\u001b[0m\n\u001b[1;32m    571\u001b[0m         \"\"\"\n\u001b[1;32m    572\u001b[0m         \u001b[0;31m# Check data\u001b[0m\u001b[0;34m\u001b[0m\u001b[0;34m\u001b[0m\u001b[0m\n\u001b[0;32m--> 573\u001b[0;31m         \u001b[0mX\u001b[0m \u001b[0;34m=\u001b[0m \u001b[0mself\u001b[0m\u001b[0;34m.\u001b[0m\u001b[0m_validate_X_predict\u001b[0m\u001b[0;34m(\u001b[0m\u001b[0mX\u001b[0m\u001b[0;34m)\u001b[0m\u001b[0;34m\u001b[0m\u001b[0m\n\u001b[0m\u001b[1;32m    574\u001b[0m \u001b[0;34m\u001b[0m\u001b[0m\n\u001b[1;32m    575\u001b[0m         \u001b[0;31m# Assign chunk of trees to jobs\u001b[0m\u001b[0;34m\u001b[0m\u001b[0;34m\u001b[0m\u001b[0m\n",
      "\u001b[0;32m/usr/local/lib/python2.7/site-packages/sklearn/ensemble/forest.pyc\u001b[0m in \u001b[0;36m_validate_X_predict\u001b[0;34m(self, X)\u001b[0m\n\u001b[1;32m    353\u001b[0m                                  \"call `fit` before exploiting the model.\")\n\u001b[1;32m    354\u001b[0m \u001b[0;34m\u001b[0m\u001b[0m\n\u001b[0;32m--> 355\u001b[0;31m         \u001b[0;32mreturn\u001b[0m \u001b[0mself\u001b[0m\u001b[0;34m.\u001b[0m\u001b[0mestimators_\u001b[0m\u001b[0;34m[\u001b[0m\u001b[0;36m0\u001b[0m\u001b[0;34m]\u001b[0m\u001b[0;34m.\u001b[0m\u001b[0m_validate_X_predict\u001b[0m\u001b[0;34m(\u001b[0m\u001b[0mX\u001b[0m\u001b[0;34m,\u001b[0m \u001b[0mcheck_input\u001b[0m\u001b[0;34m=\u001b[0m\u001b[0mTrue\u001b[0m\u001b[0;34m)\u001b[0m\u001b[0;34m\u001b[0m\u001b[0m\n\u001b[0m\u001b[1;32m    356\u001b[0m \u001b[0;34m\u001b[0m\u001b[0m\n\u001b[1;32m    357\u001b[0m     \u001b[0;34m@\u001b[0m\u001b[0mproperty\u001b[0m\u001b[0;34m\u001b[0m\u001b[0m\n",
      "\u001b[0;32m/usr/local/lib/python2.7/site-packages/sklearn/tree/tree.pyc\u001b[0m in \u001b[0;36m_validate_X_predict\u001b[0;34m(self, X, check_input)\u001b[0m\n\u001b[1;32m    374\u001b[0m                              \u001b[0;34m\"match the input. Model n_features is %s and \"\u001b[0m\u001b[0;34m\u001b[0m\u001b[0m\n\u001b[1;32m    375\u001b[0m                              \u001b[0;34m\"input n_features is %s \"\u001b[0m\u001b[0;34m\u001b[0m\u001b[0m\n\u001b[0;32m--> 376\u001b[0;31m                              % (self.n_features_, n_features))\n\u001b[0m\u001b[1;32m    377\u001b[0m \u001b[0;34m\u001b[0m\u001b[0m\n\u001b[1;32m    378\u001b[0m         \u001b[0;32mreturn\u001b[0m \u001b[0mX\u001b[0m\u001b[0;34m\u001b[0m\u001b[0m\n",
      "\u001b[0;31mValueError\u001b[0m: Number of features of the model must match the input. Model n_features is 20 and input n_features is 19 "
     ]
    }
   ],
   "source": [
    "model_rf_data_y = model_rf.predict(test_data)\n",
    "\n",
    "output(model_rf_data_y,\"predict_rf_1\")\n"
   ]
  },
  {
   "cell_type": "code",
   "execution_count": null,
   "metadata": {
    "collapsed": true
   },
   "outputs": [],
   "source": [
    "model_rf_gs_data_y =model_rf_gs.predict(test_data[numerics])\n",
    "output(model_rf_gs_data_y,\"predict_rf_gs_1\")"
   ]
  },
  {
   "cell_type": "code",
   "execution_count": null,
   "metadata": {
    "collapsed": true
   },
   "outputs": [],
   "source": []
  }
 ],
 "metadata": {
  "kernelspec": {
   "display_name": "Python 2",
   "language": "python",
   "name": "python2"
  },
  "language_info": {
   "codemirror_mode": {
    "name": "ipython",
    "version": 2
   },
   "file_extension": ".py",
   "mimetype": "text/x-python",
   "name": "python",
   "nbconvert_exporter": "python",
   "pygments_lexer": "ipython2",
   "version": "2.7.11"
  }
 },
 "nbformat": 4,
 "nbformat_minor": 1
}
